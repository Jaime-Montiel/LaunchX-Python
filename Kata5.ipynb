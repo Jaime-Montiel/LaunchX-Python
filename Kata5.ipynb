{
 "cells": [
  {
   "cell_type": "markdown",
   "metadata": {},
   "source": [
    "Ejercicio1 - Utilizar operadores aritméticos"
   ]
  },
  {
   "cell_type": "code",
   "execution_count": 3,
   "metadata": {},
   "outputs": [
    {
     "name": "stdout",
     "output_type": "stream",
     "text": [
      "628949330\n",
      "390810995\n"
     ]
    }
   ],
   "source": [
    "# Crear variables para almacenar las dos distancias\n",
    "Tierra=149597870\n",
    "Jupiter=778547200\n",
    "# Calcular la distancia entre planetas\n",
    "Dist=Jupiter-Tierra\n",
    "print(Dist)\n",
    "DistMi=Dist/1.609344\n",
    "print(round(DistMi))"
   ]
  },
  {
   "cell_type": "markdown",
   "metadata": {},
   "source": [
    "Ejercicio 2: convierte cadenas en números y usa valores absolutos"
   ]
  },
  {
   "cell_type": "code",
   "execution_count": 4,
   "metadata": {},
   "outputs": [
    {
     "name": "stdout",
     "output_type": "stream",
     "text": [
      "50300000\n",
      "31236300.0\n"
     ]
    }
   ],
   "source": [
    "# Almacenar las entradas del usuario\n",
    "plan1=input(\"Distancia del planeta 1 (valor entero)\")\n",
    "plan2=input(\"Distancia del planeta 2 (valor entero)\")\n",
    "# Convierte las cadenas de ambos planetas a números enteros\n",
    "plan1_int=int(plan1)\n",
    "plan2_int=int(plan2)\n",
    "# Realizar el cálculo y determinar el valor absoluto\n",
    "DistKM=abs(plan2_int-plan1_int)\n",
    "print(DistKM)\n",
    "# Convertir de KM a Millas\n",
    "DistMil=DistKM*0.621\n",
    "print(DistMil)"
   ]
  }
 ],
 "metadata": {
  "interpreter": {
   "hash": "7c42472f0494e9bee533ebe88e1b191024ad658f6064d5f12c53b29bfe1c3ef3"
  },
  "kernelspec": {
   "display_name": "Python 3.10.2 64-bit",
   "language": "python",
   "name": "python3"
  },
  "language_info": {
   "codemirror_mode": {
    "name": "ipython",
    "version": 3
   },
   "file_extension": ".py",
   "mimetype": "text/x-python",
   "name": "python",
   "nbconvert_exporter": "python",
   "pygments_lexer": "ipython3",
   "version": "3.10.2"
  },
  "orig_nbformat": 4
 },
 "nbformat": 4,
 "nbformat_minor": 2
}
