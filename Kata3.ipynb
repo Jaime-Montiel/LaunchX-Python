{
 "cells": [
  {
   "cell_type": "markdown",
   "metadata": {},
   "source": [
    "Ejercicio if, else y elif"
   ]
  },
  {
   "cell_type": "markdown",
   "metadata": {},
   "source": [
    "Ejercicio 1"
   ]
  },
  {
   "cell_type": "code",
   "execution_count": 1,
   "metadata": {},
   "outputs": [
    {
     "name": "stdout",
     "output_type": "stream",
     "text": [
      "Advertencia: Velocidad mayor a 25km/h\n"
     ]
    }
   ],
   "source": [
    "VelAst=49\n",
    "if VelAst>25:\n",
    "    print('Advertencia: Velocidad mayor a 25km/h')\n",
    "else:\n",
    "    print('Ningun peligro por asteroide')"
   ]
  },
  {
   "cell_type": "markdown",
   "metadata": {},
   "source": [
    "Ejercicio 2"
   ]
  },
  {
   "cell_type": "code",
   "execution_count": 4,
   "metadata": {},
   "outputs": [
    {
     "name": "stdout",
     "output_type": "stream",
     "text": [
      "No hay rastro del asteroide en el cielo\n"
     ]
    }
   ],
   "source": [
    "VelAst=19\n",
    "if VelAst>=20:\n",
    "    print('Busca el asteroide en el cielo')\n",
    "else:\n",
    "    print('No hay rastro del asteroide en el cielo')"
   ]
  },
  {
   "cell_type": "markdown",
   "metadata": {},
   "source": [
    "Ejercicio and y or"
   ]
  },
  {
   "cell_type": "code",
   "execution_count": 6,
   "metadata": {},
   "outputs": [
    {
     "name": "stdout",
     "output_type": "stream",
     "text": [
      "Advertencia: Asteroide mortal\n"
     ]
    }
   ],
   "source": [
    "VelAst=49\n",
    "TamAst=30\n",
    "if VelAst>25 and TamAst>25:\n",
    "    print('Advertencia: Asteroide mortal')\n",
    "elif VelAst>=20 :\n",
    "    print('Busca el asteroide en el cielo')\n",
    "else:\n",
    "    print('Ningun peligro por asteroide')"
   ]
  }
 ],
 "metadata": {
  "interpreter": {
   "hash": "7c42472f0494e9bee533ebe88e1b191024ad658f6064d5f12c53b29bfe1c3ef3"
  },
  "kernelspec": {
   "display_name": "Python 3.10.2 64-bit",
   "language": "python",
   "name": "python3"
  },
  "language_info": {
   "codemirror_mode": {
    "name": "ipython",
    "version": 3
   },
   "file_extension": ".py",
   "mimetype": "text/x-python",
   "name": "python",
   "nbconvert_exporter": "python",
   "pygments_lexer": "ipython3",
   "version": "3.10.2"
  },
  "orig_nbformat": 4
 },
 "nbformat": 4,
 "nbformat_minor": 2
}
